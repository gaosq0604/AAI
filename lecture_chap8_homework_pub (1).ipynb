{
 "cells": [
  {
   "cell_type": "markdown",
   "metadata": {},
   "source": [
    "# 第8回講義 宿題"
   ]
  },
  {
   "cell_type": "markdown",
   "metadata": {},
   "source": [
    "## 課題. Tensorflowを用いて, CIFAR-10を畳み込みニューラルネットワーク(CNN)で学習せよ"
   ]
  },
  {
   "cell_type": "markdown",
   "metadata": {},
   "source": [
    "### 注意"
   ]
  },
  {
   "cell_type": "markdown",
   "metadata": {},
   "source": [
    "- homework関数を完成させて提出してください\n",
    "    - 訓練データはtrain_X, train_y, テストデータはtest_Xで与えられます\n",
    "    - train_Xとtrain_yをtrain_X, train_yとvalid_X, valid_yに分けるなどしてモデルを学習させてください\n",
    "    - test_Xに対して予想ラベルpred_yを作り, homework関数の戻り値としてください\\\n",
    "- pred_yのtest_yに対する精度(F値)で評価します\n",
    "- 全体の実行時間がiLect上で60分を超えないようにしてください\n",
    "- homework関数の外には何も書かないでください (必要なものは全てhomework関数に入れてください)\n",
    "- 解答提出時には Answer Cell の内容のみを提出してください"
   ]
  },
  {
   "cell_type": "markdown",
   "metadata": {},
   "source": [
    "**`tf` の以下のモジュール及び `keras` はこの回では使用できないように制限されています. 注意してください.**\n",
    "\n",
    "```python\n",
    "tf.app\n",
    "tf.compat\n",
    "tf.contrib\n",
    "tf.erros\n",
    "tf.gfile\n",
    "tf.graph_util\n",
    "tf.image\n",
    "tf.layers\n",
    "tf.logging\n",
    "tf.losses\n",
    "tf.metrics\n",
    "tf.python_io\n",
    "tf.resource_loader\n",
    "tf.saved_model\n",
    "tf.sdca\n",
    "tf.sets\n",
    "tf.summary\n",
    "tf.sysconfig\n",
    "tf.test\n",
    "```"
   ]
  },
  {
   "cell_type": "markdown",
   "metadata": {},
   "source": [
    "次のセルのhomework関数を完成させて提出してください"
   ]
  },
  {
   "cell_type": "markdown",
   "metadata": {},
   "source": [
    "# Answer Cell"
   ]
  },
  {
   "cell_type": "code",
<<<<<<< HEAD
   "execution_count": 6,
   "metadata": {
    "collapsed": true
   },
=======
   "execution_count": 1,
   "metadata": {},
>>>>>>> f012935a23b15c31b9c735233918a01257ce4d5a
   "outputs": [],
   "source": [
    "def homework(train_X, train_y, test_X):\n",
    "    rng = np.random.RandomState(1234)\n",
    "    random_state = 42\n",
    "    train_X, valid_X, train_y, valid_y = train_test_split(train_X, train_y,test_size=0.2, random_state=42)\n",
    "    flip_train_X = train_X[:, :, ::-1, :]\n",
    "    padded = np.pad(train_X, ((0, 0), (4, 4), (4, 4), (0, 0)), mode='constant')\n",
    "    crops = rng.randint(8, size=(len(train_X), 2))\n",
    "    cropped_train_X = [padded[i, c[0]:(c[0]+32), c[1]:(c[1]+32), :] for i, c in enumerate(crops)]\n",
    "    cropped_train_X = np.array(cropped_train_X)\n",
    "    train_X = np.concatenate((train_X, flip_train_X))\n",
    "    train_X = np.concatenate((train_X,  cropped_train_X ))\n",
    "    temp = train_y\n",
    "    train_y = np.concatenate((train_y, train_y))\n",
    "    train_y = np.concatenate((train_y, temp))\n",
    "    import matplotlib.pyplot as plt\n",
    "\n",
    "    # グラフをipython notebook内に表示\n",
    "    %matplotlib inline\n",
    "    def gcn(x):\n",
    "        mean = np.mean(x, axis=(1, 2, 3), keepdims=True)\n",
    "        std = np.std(x, axis=(1, 2, 3), keepdims=True)\n",
    "        return (x - mean)/std\n",
    "    \n",
    "    class ZCAWhitening:\n",
    "        def __init__(self, epsilon=1e-4):\n",
    "            self.epsilon = epsilon\n",
    "            self.mean = None\n",
    "            self.ZCA_matrix = None\n",
    "\n",
    "        def fit(self, x):\n",
    "            x = x.reshape(x.shape[0], -1)\n",
    "            self.mean = np.mean(x, axis=0)\n",
    "            x -= self.mean\n",
    "            cov_matrix = np.dot(x.T, x) / x.shape[0]\n",
    "            A, d, _ = np.linalg.svd(cov_matrix)\n",
    "            self.ZCA_matrix = np.dot(np.dot(A, np.diag(1. / np.sqrt(d + self.epsilon))), A.T)\n",
    "\n",
    "        def transform(self, x):\n",
    "            shape = x.shape\n",
    "            x = x.reshape(x.shape[0], -1)\n",
    "            x -= self.mean\n",
    "            x = np.dot(x, self.ZCA_matrix.T)\n",
    "            return x.reshape(shape)\n",
    "    \n",
    "    class BatchNorm:\n",
    "        def __init__(self, shape, epsilon=np.float32(1e-5)):\n",
    "            self.gamma = tf.Variable(np.ones(shape, dtype='float32'), name='gamma')\n",
    "            self.beta  = tf.Variable(np.zeros(shape, dtype='float32'), name='beta')\n",
    "            self.epsilon = epsilon\n",
    "\n",
    "        def f_prop(self, x):\n",
    "            if len(x.get_shape()) == 2:\n",
    "                mean, var = tf.nn.moments(x, axes=0, keepdims=True)\n",
    "                std = tf.sqrt(var + self.epsilon)\n",
    "            elif len(x.get_shape()) == 4:\n",
    "                mean, var = tf.nn.moments(x, axes=(0,1,2), keep_dims=True)\n",
    "                std = tf.sqrt(var + self.epsilon)\n",
    "            normalized_x = (x - mean) / std\n",
    "            return self.gamma * normalized_x + self.beta\n",
    "        \n",
    "    class Conv:\n",
    "        def __init__(self, filter_shape, function=lambda x: x, strides=[1,1,1,1], padding='VALID'):\n",
    "            # Xavier\n",
    "            fan_in = np.prod(filter_shape[:3])\n",
    "            fan_out = np.prod(filter_shape[:2]) * filter_shape[3]\n",
    "            self.W = tf.Variable(rng.uniform(\n",
    "                            low=-np.sqrt(6/(fan_in + fan_out)),\n",
    "                            high=np.sqrt(6/(fan_in + fan_out)),\n",
    "                            size=filter_shape\n",
    "                        ).astype('float32'), name='W')\n",
    "            self.b = tf.Variable(np.zeros((filter_shape[3]), dtype='float32'), name='b') # バイアスはフィルタごと\n",
    "            self.function = function\n",
    "            self.strides = strides\n",
    "            self.padding = padding\n",
    "\n",
    "        def f_prop(self, x):\n",
    "            u = tf.nn.conv2d(x, self.W, strides=self.strides, padding=self.padding) + self.b\n",
    "            return self.function(u)\n",
    "        \n",
    "    class Pooling:\n",
    "        def __init__(self, ksize=[1,2,2,1], strides=[1,2,2,1], padding='VALID'):\n",
    "            self.ksize = ksize\n",
    "            self.strides = strides\n",
    "            self.padding = padding\n",
    "\n",
    "        def f_prop(self, x):\n",
    "            return tf.nn.max_pool(x, ksize=self.ksize, strides=self.strides, padding=self.padding)\n",
    "    \n",
    "    class Flatten:\n",
    "        def f_prop(self, x):\n",
    "            return tf.reshape(x, (-1, np.prod(x.get_shape().as_list()[1:])))\n",
    "        \n",
    "    class Dense:\n",
    "        def __init__(self, in_dim, out_dim, function=lambda x: x):\n",
    "            # Xavier\n",
    "            self.W = tf.Variable(rng.uniform(\n",
    "                            low=-np.sqrt(6/(in_dim + out_dim)),\n",
    "                            high=np.sqrt(6/(in_dim + out_dim)),\n",
    "                            size=(in_dim, out_dim)\n",
    "                        ).astype('float32'), name='W')\n",
    "            self.b = tf.Variable(np.zeros([out_dim]).astype('float32'))\n",
    "            self.function = function\n",
    "\n",
    "        def f_prop(self, x):\n",
    "            return self.function(tf.matmul(x, self.W) + self.b)\n",
    "        \n",
    "    class Activation:\n",
    "        def __init__(self, function=lambda x: x):\n",
    "            self.function = function\n",
    "\n",
    "        def f_prop(self, x):\n",
    "            return self.function(x)\n",
    "        \n",
    "    layers = [ # (縦の次元数)x(横の次元数)x(チャネル数)\n",
    "        Conv((3, 3, 3, 32)), # 32x32x3 -> 30x30x32\n",
    "        BatchNorm((30, 30, 32)),\n",
    "        Activation(tf.nn.relu),\n",
    "        Pooling((1, 2, 2, 1)), # 30x30x32 -> 15x15x32\n",
    "        Conv((3, 3, 32, 64)), # 15x15x32 -> 13x13x64\n",
    "        BatchNorm((13, 13, 64)),\n",
    "        Pooling(((1, 2, 2, 1))), # 13x13x64 -> 6x6x64\n",
    "        Conv((3, 3, 64, 128)), # 6x6x64 -> 4x4x128\n",
    "        BatchNorm((4, 4, 128)),\n",
    "        Activation(tf.nn.relu),\n",
    "        Pooling((1, 2, 2, 1)), # 4x4x128 -> 2x2x128\n",
    "        Flatten(),\n",
    "        Dense(2*2*128, 256, tf.nn.relu),\n",
    "        Dense(256, 10, tf.nn.softmax)\n",
    "    ]\n",
    "\n",
    "    x = tf.placeholder(tf.float32, [None, 32, 32, 3])\n",
    "    t = tf.placeholder(tf.float32, [None, 10])\n",
    "\n",
    "    def f_props(layers, x):\n",
    "        for layer in layers:\n",
    "            x = layer.f_prop(x)\n",
    "        return x\n",
    "\n",
    "    y = f_props(layers, x)\n",
    "\n",
    "    cost = -tf.reduce_mean(tf.reduce_sum(t * tf.log(tf.clip_by_value(y, 1e-10, 1.0)), axis=1))\n",
    "    train = tf.train.GradientDescentOptimizer(0.1).minimize(cost)\n",
    "\n",
    "    valid = tf.argmax(y, 1)\n",
    "    \n",
<<<<<<< HEAD
    "    import time\n",
    "    start_time=time.time()\n",
    "    \n",
    "    zca = ZCAWhitening()\n",
    "    zca.fit(gcn(train_X))\n",
    "    zca_train_X = zca.transform(gcn(train_X))\n",
    "    zca_valid_X = zca.transform(gcn(valid_X))\n",
    "    zca_train_y = train_y[:]\n",
    "    zca_test_X = zca.transform(gcn(test_X))\n",
    "    \n",
    "    print(\"ZCAGCN time\",time.time()-start_time)\n",
    "    \n",
    "    n_epochs = 75\n",
=======
    "    #zca = ZCAWhitening()\n",
    "    #zca.fit(gcn(train_X))\n",
    "    #zca_train_X = zca.transform(gcn(train_X))\n",
    "    #zca_valid_X = zca.transform(gcn(valid_X))\n",
    "    #zca_train_y = train_y[:]\n",
    "    #zca_test_X = zca.transform(gcn(test_X))\n",
    "    \n",
    "    n_epochs = 50\n",
>>>>>>> f012935a23b15c31b9c735233918a01257ce4d5a
    "    batch_size = 100\n",
    "    n_batches = train_X.shape[0]//batch_size\n",
    "\n",
    "    sess = tf.Session()\n",
    "    init = tf.global_variables_initializer()\n",
    "    sess.run(init)\n",
    "    y_train = []\n",
    "    y_valid = []\n",
    "    for epoch in range(n_epochs):\n",
    "        train_X, train_y = shuffle(train_X, train_y, random_state=random_state)\n",
    "        valid_cost=0\n",
    "        for i in range(n_batches):\n",
    "            start = i * batch_size\n",
    "            end = start + batch_size\n",
    "            _,_cost=sess.run([train, cost], feed_dict={x: train_X[start:end], t: train_y[start:end]})\n",
    "            valid_cost += _cost\n",
    "        xx_cost = sess.run([cost], feed_dict={x: valid_X, t: valid_y})\n",
    "        y_train.append(valid_cost/(n_batches+1))\n",
    "        y_valid.append(xx_cost)\n",
<<<<<<< HEAD
    "        time_cost=time.time()-start_time\n",
    "        print('EPOCH:: %i, Validation cost: %.3f %.3f' % (epoch + 1, valid_cost, time_cost))\n",
=======
    "        print('EPOCH:: %i, Validation cost: %.3f' % (epoch + 1, valid_cost))\n",
>>>>>>> f012935a23b15c31b9c735233918a01257ce4d5a
    "    plt.figure(1)\n",
    "    plt.plot(y_train)  \n",
    "    plt.plot(y_valid)\n",
    "    plt.show()\n",
    "    pred_y_m = sess.run([valid], feed_dict={x: test_X})\n",
    "    pred_y=pred_y_m[0]\n",
    "    sess.close()\n",
    "    return pred_y"
   ]
  },
  {
   "cell_type": "markdown",
   "metadata": {},
   "source": [
    "- 以下のvalidate_homework関数を用いてエラーが起きないか動作確認をして下さい。\n",
    "- 提出に際して、以下のscore_homework関数で60分で実行が終わることを確認して下さい。\n",
    "- 評価は以下のscore_homework関数で行われますが、random_stateの値は変更されます。"
   ]
  },
  {
   "cell_type": "markdown",
   "metadata": {},
   "source": [
    "# Checker Cell (for student)"
   ]
  },
  {
   "cell_type": "code",
<<<<<<< HEAD
   "execution_count": 7,
   "metadata": {},
   "outputs": [
    {
     "ename": "AttributeError",
     "evalue": "app",
     "output_type": "error",
     "traceback": [
      "\u001b[1;31m---------------------------------------------------------------------------\u001b[0m",
      "\u001b[1;31mAttributeError\u001b[0m                            Traceback (most recent call last)",
      "\u001b[1;32m<ipython-input-7-437318179b55>\u001b[0m in \u001b[0;36m<module>\u001b[1;34m()\u001b[0m\n\u001b[0;32m     11\u001b[0m \u001b[1;33m\u001b[0m\u001b[0m\n\u001b[0;32m     12\u001b[0m del [\n\u001b[1;32m---> 13\u001b[1;33m     \u001b[0mtf\u001b[0m\u001b[1;33m.\u001b[0m\u001b[0mapp\u001b[0m\u001b[1;33m,\u001b[0m\u001b[1;33m\u001b[0m\u001b[0m\n\u001b[0m\u001b[0;32m     14\u001b[0m     \u001b[0mtf\u001b[0m\u001b[1;33m.\u001b[0m\u001b[0mcompat\u001b[0m\u001b[1;33m,\u001b[0m\u001b[1;33m\u001b[0m\u001b[0m\n\u001b[0;32m     15\u001b[0m     \u001b[0mtf\u001b[0m\u001b[1;33m.\u001b[0m\u001b[0mcontrib\u001b[0m\u001b[1;33m,\u001b[0m\u001b[1;33m\u001b[0m\u001b[0m\n",
      "\u001b[1;31mAttributeError\u001b[0m: app"
=======
   "execution_count": null,
   "metadata": {},
   "outputs": [
    {
     "name": "stderr",
     "output_type": "stream",
     "text": [
      "Using TensorFlow backend.\n"
>>>>>>> f012935a23b15c31b9c735233918a01257ce4d5a
     ]
    }
   ],
   "source": [
    "import sys\n",
    "\n",
    "from keras.datasets import cifar10\n",
    "from sklearn.utils import shuffle\n",
    "from sklearn.metrics import f1_score\n",
    "from sklearn.datasets import fetch_mldata\n",
    "from sklearn.model_selection import train_test_split\n",
    "\n",
    "import numpy as np\n",
    "import tensorflow as tf\n",
    "\n",
    "del [\n",
    "    tf.app,\n",
    "    tf.compat,\n",
    "    tf.contrib,\n",
    "    tf.errors,\n",
    "    tf.gfile,\n",
    "    tf.graph_util,\n",
    "    tf.image,\n",
    "    tf.layers,\n",
    "    tf.logging,\n",
    "    tf.losses,\n",
    "    tf.metrics,\n",
    "    tf.python_io,\n",
    "    tf.resource_loader,\n",
    "    tf.saved_model,\n",
    "    tf.sdca,\n",
    "    tf.sets,\n",
    "    tf.summary,\n",
    "    tf.sysconfig,\n",
    "    tf.test\n",
    "]\n",
    "\n",
    "sys.modules['keras'] = None\n",
    "\n",
    "def load_cifar():\n",
    "    (cifar_X_1, cifar_y_1), (cifar_X_2, cifar_y_2) = cifar10.load_data()\n",
    "\n",
    "    cifar_X = np.r_[cifar_X_1, cifar_X_2]\n",
    "    cifar_y = np.r_[cifar_y_1, cifar_y_2]\n",
    "\n",
    "    cifar_X = cifar_X.astype('float32') / 255\n",
    "    cifar_y = np.eye(10)[cifar_y.astype('int32').flatten()]\n",
    "\n",
    "    train_X, test_X, train_y, test_y = train_test_split(cifar_X, cifar_y,\n",
    "                                                        test_size=10000,\n",
    "                                                        random_state=42)\n",
    "\n",
    "    return (train_X, test_X, train_y, test_y)\n",
    "\n",
    "def validate_homework():\n",
    "    train_X, test_X, train_y, test_y = load_cifar()\n",
    "\n",
    "    # validate for small dataset\n",
    "    train_X_mini = train_X[:100]\n",
    "    train_y_mini = train_y[:100]\n",
    "    test_X_mini = test_X[:100]\n",
    "    test_y_mini = test_y[:100]\n",
    "\n",
    "    pred_y = homework(train_X_mini, train_y_mini, test_X_mini)\n",
    "    print(f1_score(np.argmax(test_y_mini, 1), pred_y, average='macro'))\n",
    "\n",
    "def score_homework():\n",
    "    train_X, test_X, train_y, test_y = load_cifar()\n",
    "    pred_y = homework(train_X, train_y, test_X)\n",
    "    print(f1_score(np.argmax(test_y, 1), pred_y, average='macro'))"
   ]
  },
  {
   "cell_type": "code",
<<<<<<< HEAD
   "execution_count": 8,
   "metadata": {
    "scrolled": true
   },
   "outputs": [
    {
     "name": "stdout",
     "output_type": "stream",
     "text": [
      "ZCAGCN time 32.56910037994385\n",
      "EPOCH:: 1, Validation cost: 6.072 33.688\n",
      "EPOCH:: 2, Validation cost: 4.670 33.720\n",
      "EPOCH:: 3, Validation cost: 2.792 33.757\n",
      "EPOCH:: 4, Validation cost: 2.186 33.803\n",
      "EPOCH:: 5, Validation cost: 2.035 33.841\n",
      "EPOCH:: 6, Validation cost: 1.678 33.888\n",
      "EPOCH:: 7, Validation cost: 1.467 33.926\n",
      "EPOCH:: 8, Validation cost: 1.085 33.958\n",
      "EPOCH:: 9, Validation cost: 0.993 34.021\n",
      "EPOCH:: 10, Validation cost: 0.675 34.072\n",
      "EPOCH:: 11, Validation cost: 0.428 34.130\n",
      "EPOCH:: 12, Validation cost: 0.320 34.158\n",
      "EPOCH:: 13, Validation cost: 0.258 34.189\n",
      "EPOCH:: 14, Validation cost: 0.229 34.221\n",
      "EPOCH:: 15, Validation cost: 0.174 34.288\n",
      "EPOCH:: 16, Validation cost: 0.165 34.319\n",
      "EPOCH:: 17, Validation cost: 0.150 34.367\n",
      "EPOCH:: 18, Validation cost: 0.113 34.392\n",
      "EPOCH:: 19, Validation cost: 0.102 34.423\n",
      "EPOCH:: 20, Validation cost: 0.097 34.457\n",
      "EPOCH:: 21, Validation cost: 0.092 34.504\n",
      "EPOCH:: 22, Validation cost: 0.093 34.540\n",
      "EPOCH:: 23, Validation cost: 0.082 34.573\n",
      "EPOCH:: 24, Validation cost: 0.073 34.612\n",
      "EPOCH:: 25, Validation cost: 0.061 34.647\n",
      "EPOCH:: 26, Validation cost: 0.061 34.690\n",
      "EPOCH:: 27, Validation cost: 0.068 34.721\n",
      "EPOCH:: 28, Validation cost: 0.055 34.757\n",
      "EPOCH:: 29, Validation cost: 0.051 34.794\n",
      "EPOCH:: 30, Validation cost: 0.047 34.831\n",
      "EPOCH:: 31, Validation cost: 0.046 34.874\n",
      "EPOCH:: 32, Validation cost: 0.043 34.905\n",
      "EPOCH:: 33, Validation cost: 0.040 34.941\n",
      "EPOCH:: 34, Validation cost: 0.045 34.973\n",
      "EPOCH:: 35, Validation cost: 0.037 35.011\n",
      "EPOCH:: 36, Validation cost: 0.035 35.047\n",
      "EPOCH:: 37, Validation cost: 0.037 35.074\n",
      "EPOCH:: 38, Validation cost: 0.035 35.105\n",
      "EPOCH:: 39, Validation cost: 0.032 35.141\n",
      "EPOCH:: 40, Validation cost: 0.032 35.172\n",
      "EPOCH:: 41, Validation cost: 0.033 35.219\n",
      "EPOCH:: 42, Validation cost: 0.028 35.258\n",
      "EPOCH:: 43, Validation cost: 0.028 35.306\n",
      "EPOCH:: 44, Validation cost: 0.029 35.340\n",
      "EPOCH:: 45, Validation cost: 0.026 35.373\n",
      "EPOCH:: 46, Validation cost: 0.024 35.409\n",
      "EPOCH:: 47, Validation cost: 0.024 35.457\n",
      "EPOCH:: 48, Validation cost: 0.027 35.491\n",
      "EPOCH:: 49, Validation cost: 0.024 35.522\n",
      "EPOCH:: 50, Validation cost: 0.024 35.573\n",
      "EPOCH:: 51, Validation cost: 0.023 35.620\n",
      "EPOCH:: 52, Validation cost: 0.021 35.658\n",
      "EPOCH:: 53, Validation cost: 0.021 35.701\n",
      "EPOCH:: 54, Validation cost: 0.020 35.724\n",
      "EPOCH:: 55, Validation cost: 0.021 35.757\n",
      "EPOCH:: 56, Validation cost: 0.020 35.804\n",
      "EPOCH:: 57, Validation cost: 0.019 35.838\n",
      "EPOCH:: 58, Validation cost: 0.021 35.857\n",
      "EPOCH:: 59, Validation cost: 0.018 35.920\n",
      "EPOCH:: 60, Validation cost: 0.019 35.956\n",
      "EPOCH:: 61, Validation cost: 0.019 35.989\n",
      "EPOCH:: 62, Validation cost: 0.018 36.039\n",
      "EPOCH:: 63, Validation cost: 0.016 36.073\n",
      "EPOCH:: 64, Validation cost: 0.016 36.120\n",
      "EPOCH:: 65, Validation cost: 0.017 36.158\n",
      "EPOCH:: 66, Validation cost: 0.015 36.191\n",
      "EPOCH:: 67, Validation cost: 0.016 36.223\n",
      "EPOCH:: 68, Validation cost: 0.015 36.274\n",
      "EPOCH:: 69, Validation cost: 0.014 36.305\n",
      "EPOCH:: 70, Validation cost: 0.014 36.342\n",
      "EPOCH:: 71, Validation cost: 0.014 36.378\n",
      "EPOCH:: 72, Validation cost: 0.014 36.409\n",
      "EPOCH:: 73, Validation cost: 0.013 36.442\n",
      "EPOCH:: 74, Validation cost: 0.013 36.474\n",
      "EPOCH:: 75, Validation cost: 0.013 36.521\n"
     ]
    },
    {
     "data": {
      "image/png": "iVBORw0KGgoAAAANSUhEUgAAAXcAAAD8CAYAAACMwORRAAAABHNCSVQICAgIfAhkiAAAAAlwSFlz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\nrkJggg==\n",
      "text/plain": [
       "<matplotlib.figure.Figure at 0x2118275a2b0>"
      ]
     },
     "metadata": {},
     "output_type": "display_data"
    },
    {
     "name": "stdout",
     "output_type": "stream",
     "text": [
      "0.232526956816\n"
     ]
    }
   ],
   "source": [
    "validate_homework()\n",
    "# score_homework()"
   ]
  },
  {
   "cell_type": "code",
   "execution_count": 9,
   "metadata": {
    "scrolled": true
   },
=======
   "execution_count": null,
   "metadata": {},
>>>>>>> f012935a23b15c31b9c735233918a01257ce4d5a
   "outputs": [
    {
     "name": "stdout",
     "output_type": "stream",
     "text": [
<<<<<<< HEAD
      "ZCAGCN time 259.73141384124756\n",
      "EPOCH:: 1, Validation cost: 1492.943 283.222\n",
      "EPOCH:: 2, Validation cost: 1066.066 305.603\n",
      "EPOCH:: 3, Validation cost: 895.580 327.683\n",
      "EPOCH:: 4, Validation cost: 787.299 349.984\n",
      "EPOCH:: 5, Validation cost: 699.942 372.250\n",
      "EPOCH:: 6, Validation cost: 633.540 394.476\n",
      "EPOCH:: 7, Validation cost: 576.263 416.854\n",
      "EPOCH:: 8, Validation cost: 520.853 439.005\n",
      "EPOCH:: 9, Validation cost: 470.445 461.354\n",
      "EPOCH:: 10, Validation cost: 426.293 484.510\n",
      "EPOCH:: 11, Validation cost: 393.509 506.942\n",
      "EPOCH:: 12, Validation cost: 356.805 528.691\n",
      "EPOCH:: 13, Validation cost: 321.193 550.559\n",
      "EPOCH:: 14, Validation cost: 289.814 572.647\n",
      "EPOCH:: 15, Validation cost: 263.770 594.481\n",
      "EPOCH:: 16, Validation cost: 238.963 616.696\n",
      "EPOCH:: 17, Validation cost: 217.185 638.918\n",
      "EPOCH:: 18, Validation cost: 193.402 660.966\n",
      "EPOCH:: 19, Validation cost: 172.513 682.948\n",
      "EPOCH:: 20, Validation cost: 155.891 705.913\n",
      "EPOCH:: 21, Validation cost: 137.398 727.648\n",
      "EPOCH:: 22, Validation cost: 126.807 749.447\n",
      "EPOCH:: 23, Validation cost: 107.777 771.489\n",
      "EPOCH:: 24, Validation cost: 94.130 794.359\n",
      "EPOCH:: 25, Validation cost: 86.201 816.923\n",
      "EPOCH:: 26, Validation cost: 80.310 839.870\n",
      "EPOCH:: 27, Validation cost: 69.424 861.971\n",
      "EPOCH:: 28, Validation cost: 61.365 885.088\n",
      "EPOCH:: 29, Validation cost: 56.937 906.853\n",
      "EPOCH:: 30, Validation cost: 52.972 929.466\n",
      "EPOCH:: 31, Validation cost: 45.237 951.862\n",
      "EPOCH:: 32, Validation cost: 40.767 974.841\n",
      "EPOCH:: 33, Validation cost: 36.293 996.555\n",
      "EPOCH:: 34, Validation cost: 36.676 1019.422\n",
      "EPOCH:: 35, Validation cost: 27.759 1041.422\n",
      "EPOCH:: 36, Validation cost: 24.830 1064.385\n",
      "EPOCH:: 37, Validation cost: 21.384 1086.766\n",
      "EPOCH:: 38, Validation cost: 18.608 1109.175\n",
      "EPOCH:: 39, Validation cost: 14.086 1131.357\n",
      "EPOCH:: 40, Validation cost: 12.357 1154.187\n",
      "EPOCH:: 41, Validation cost: 9.381 1176.244\n",
      "EPOCH:: 42, Validation cost: 7.475 1198.841\n",
      "EPOCH:: 43, Validation cost: 7.434 1221.208\n",
      "EPOCH:: 44, Validation cost: 6.805 1243.994\n",
      "EPOCH:: 45, Validation cost: 6.370 1266.574\n",
      "EPOCH:: 46, Validation cost: 4.664 1289.789\n",
      "EPOCH:: 47, Validation cost: 4.205 1312.168\n",
      "EPOCH:: 48, Validation cost: 2.976 1334.475\n",
      "EPOCH:: 49, Validation cost: 3.395 1357.568\n",
      "EPOCH:: 50, Validation cost: 2.664 1379.808\n",
      "EPOCH:: 51, Validation cost: 2.091 1402.068\n",
      "EPOCH:: 52, Validation cost: 2.313 1424.331\n",
      "EPOCH:: 53, Validation cost: 1.966 1446.649\n",
      "EPOCH:: 54, Validation cost: 2.270 1469.268\n",
      "EPOCH:: 55, Validation cost: 1.607 1491.437\n",
      "EPOCH:: 56, Validation cost: 1.598 1514.341\n",
      "EPOCH:: 57, Validation cost: 1.650 1537.255\n",
      "EPOCH:: 58, Validation cost: 1.407 1559.609\n",
      "EPOCH:: 59, Validation cost: 1.806 1581.455\n",
      "EPOCH:: 60, Validation cost: 1.689 1603.585\n",
      "EPOCH:: 61, Validation cost: 1.548 1625.882\n",
      "EPOCH:: 62, Validation cost: 1.258 1648.208\n",
      "EPOCH:: 63, Validation cost: 2.199 1670.243\n",
      "EPOCH:: 64, Validation cost: 2.213 1692.373\n",
      "EPOCH:: 65, Validation cost: 1.767 1714.517\n",
      "EPOCH:: 66, Validation cost: 1.862 1736.870\n",
      "EPOCH:: 67, Validation cost: 1.623 1759.059\n",
      "EPOCH:: 68, Validation cost: 1.186 1781.802\n",
      "EPOCH:: 69, Validation cost: 1.342 1804.012\n",
      "EPOCH:: 70, Validation cost: 1.203 1826.992\n",
      "EPOCH:: 71, Validation cost: 1.194 1849.603\n",
      "EPOCH:: 72, Validation cost: 1.092 1871.691\n",
      "EPOCH:: 73, Validation cost: 0.954 1894.420\n",
      "EPOCH:: 74, Validation cost: 0.904 1917.049\n",
      "EPOCH:: 75, Validation cost: 0.902 1939.146\n"
     ]
    },
    {
     "data": {
      "image/png": "iVBORw0KGgoAAAANSUhEUgAAAXcAAAD8CAYAAACMwORRAAAABHNCSVQICAgIfAhkiAAAAAlwSFlz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\nQmCC\n",
      "text/plain": [
       "<matplotlib.figure.Figure at 0x211b599e2e8>"
      ]
     },
     "metadata": {},
     "output_type": "display_data"
    },
    {
     "name": "stdout",
     "output_type": "stream",
     "text": [
      "0.80344403874\n"
=======
      "EPOCH:: 1, Validation cost: 1490.672\n"
>>>>>>> f012935a23b15c31b9c735233918a01257ce4d5a
     ]
    }
   ],
   "source": [
<<<<<<< HEAD
=======
    "#validate_homework()\n",
>>>>>>> f012935a23b15c31b9c735233918a01257ce4d5a
    "score_homework()"
   ]
  },
  {
   "cell_type": "code",
<<<<<<< HEAD
   "execution_count": 5,
=======
   "execution_count": null,
>>>>>>> f012935a23b15c31b9c735233918a01257ce4d5a
   "metadata": {
    "collapsed": true
   },
   "outputs": [],
<<<<<<< HEAD
   "source": [
    "#no-ZCA 50epochs 0.798885025257 2193.520\n",
    "#ZCAGCN 50epochs 0.799183103712 2238.661\n",
    "#ZCAGCN 100epochs 0.800 4200\n",
    "#relu>relu6>tahn\n",
    "#ZCAGCN relu 75epochs 0.800 3240\n",
    "#ZCAGCN relu6 75epochs 0.796 3271.951\n",
    "#ZCAGCN dense 128*2*2->128 relu\n",
    "#ZCAGCN dense 128*2*2->256 tahn 0.75 \n",
    "#ZCAGCN dense 128*2*2->256 75 epochs relu6 0.79"
   ]
=======
   "source": []
>>>>>>> f012935a23b15c31b9c735233918a01257ce4d5a
  }
 ],
 "metadata": {
  "kernelspec": {
   "display_name": "Python 3",
   "language": "python",
   "name": "python3"
  },
  "language_info": {
   "codemirror_mode": {
    "name": "ipython",
    "version": 3
   },
   "file_extension": ".py",
   "mimetype": "text/x-python",
   "name": "python",
   "nbconvert_exporter": "python",
   "pygments_lexer": "ipython3",
<<<<<<< HEAD
   "version": "3.5.3"
=======
   "version": "3.5.2"
>>>>>>> f012935a23b15c31b9c735233918a01257ce4d5a
  }
 },
 "nbformat": 4,
 "nbformat_minor": 1
}
