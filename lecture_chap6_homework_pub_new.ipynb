{
 "cells": [
  {
   "cell_type": "markdown",
   "metadata": {},
   "source": [
    "# 第6回講義 宿題"
   ]
  },
  {
   "cell_type": "markdown",
   "metadata": {},
   "source": [
    "## 課題. Stacked Denoising Autoencoderで事前学習をした上で, MNISTを多層パーセプトロンで学習せよ"
   ]
  },
  {
   "cell_type": "markdown",
   "metadata": {},
   "source": [
    "### 注意"
   ]
  },
  {
   "cell_type": "markdown",
   "metadata": {},
   "source": [
    "- homework関数を完成させて提出してください\n",
    "    - 訓練データはtrain_X, train_y, テストデータはtest_Xで与えられます\n",
    "    - train_Xとtrain_yをtrain_X, train_yとvalid_X, valid_yに分けるなどしてモデルを学習させてください\n",
    "    - test_Xに対して予想ラベルpred_yを作り, homework関数の戻り値としてください\\\n",
    "- pred_yのtest_yに対する精度(F値)で評価します\n",
    "- 全体の実行時間がiLect上で60分を超えないようにしてください\n",
    "- homework関数の外には何も書かないでください (必要なものは全てhomework関数に入れてください)\n",
    "- 解答提出時には Answer Cell の内容のみを提出してください"
   ]
  },
  {
   "cell_type": "markdown",
   "metadata": {},
   "source": [
    "- CNNは使わないでください"
   ]
  },
  {
   "cell_type": "markdown",
   "metadata": {},
   "source": [
    "**`tf` の以下のモジュールはこの回では使用できないように制限されています. 注意してください.**\n",
    "```python\n",
    "tf.app\n",
    "tf.compat\n",
    "tf.contrib\n",
    "tf.erros\n",
    "tf.gfile\n",
    "tf.graph_util\n",
    "tf.image\n",
    "tf.layers\n",
    "tf.logging\n",
    "tf.losses\n",
    "tf.metrics\n",
    "tf.python_io\n",
    "tf.resource_loader\n",
    "tf.saved_model\n",
    "tf.sdca\n",
    "tf.sets\n",
    "tf.summary\n",
    "tf.sysconfig\n",
    "tf.test\n",
    "tf.train\n",
    "```"
   ]
  },
  {
   "cell_type": "markdown",
   "metadata": {},
   "source": [
    "次のセルを完成させて提出してください"
   ]
  },
  {
   "cell_type": "markdown",
   "metadata": {},
   "source": [
    "# Answer Cell"
   ]
  },
  {
   "cell_type": "code",
   "execution_count": 26,
   "metadata": {
    "collapsed": true
   },
   "outputs": [],
   "source": [
    "def homework(train_X, train_y, test_X):\n",
    "    # WRITE ME!\n",
    "    import time\n",
    "    import matplotlib.pyplot as plt\n",
    "    #%matplotlib inline\n",
    "    \n",
    "    #definition\n",
    "    \n",
    "    eps=0.1\n",
    "    #epoch_num=60\n",
    "    rng = np.random.RandomState(1234)\n",
    "    random_state = 42\n",
    "    \n",
    "    class Autoencoder:\n",
    "        def __init__(self, vis_dim, hid_dim, W, function=lambda x: x):\n",
    "            self.W = W\n",
    "            self.a = tf.Variable(np.zeros(vis_dim).astype('float32'), name='a')\n",
    "            self.b = tf.Variable(np.zeros(hid_dim).astype('float32'), name='b')\n",
    "            self.function = function\n",
    "            self.params = [self.W, self.a, self.b]\n",
    "\n",
    "        def encode(self, x):\n",
    "            u = tf.matmul(x,self.W)+self.b\n",
    "            # WRITE ME (HINT: use self.W and self.b)\n",
    "            return self.function(u)\n",
    "\n",
    "        def decode(self, x):\n",
    "            u = tf.matmul(x,tf.transpose(self.W))+self.a\n",
    "            # WRITE ME (HINT: use self.W and self.a)\n",
    "            return self.function(u)\n",
    "\n",
    "        def f_prop(self, x):\n",
    "            y = self.encode(x)# WRITE ME\n",
    "            return self.decode(y)# WRITE ME\n",
    "\n",
    "        def reconst_error(self, x, noise):\n",
    "            tilde_x = x * noise# WRITE ME (HINT: masking noise)\n",
    "            reconst_x = self.f_prop(tilde_x)\n",
    "            error = -tf.reduce_mean(tf.reduce_sum(x * tf.log(reconst_x) + (1. - x) * tf.log(1. - reconst_x), axis=1))\n",
    "            return error, reconst_x\n",
    "    \n",
    "    class Dense:\n",
    "        def __init__(self, in_dim, out_dim, function):\n",
    "            self.W = tf.Variable(rng.uniform(low=-0.08, high=0.08, size=(in_dim, out_dim)).astype('float32'), name='W')\n",
    "            self.b = tf.Variable(np.zeros([out_dim]).astype('float32'))\n",
    "            self.function = function\n",
    "            self.params = [self.W, self.b]\n",
    "\n",
    "            self.ae = Autoencoder(in_dim, out_dim, self.W, self.function)\n",
    "\n",
    "        def f_prop(self, x):\n",
    "            u = tf.matmul(x, self.W) + self.b\n",
    "            self.z = self.function(u)\n",
    "            return self.z\n",
    "\n",
    "        def pretrain(self, x, noise):\n",
    "            cost, reconst_x = self.ae.reconst_error(x, noise)\n",
    "            return cost, reconst_x\n",
    "        \n",
    "    def sgd(cost, params, eps=np.float32(0.1)):\n",
    "        g_params = tf.gradients(cost, params)\n",
    "        updates = []\n",
    "        for param, g_param in zip(params, g_params):\n",
    "            if g_param != None:\n",
    "                updates.append(param.assign_add(-eps*g_param))\n",
    "        return updates\n",
    "    \n",
    "    layers = [\n",
    "        Dense(784, 500, tf.nn.sigmoid),\n",
    "        Dense(500, 500, tf.nn.sigmoid),\n",
    "        Dense(500, 10, tf.nn.softmax)\n",
    "    ]\n",
    "    \n",
    "    x = tf.placeholder(tf.float32, [None, 784])\n",
    "    t = tf.placeholder(tf.float32, [None, 10])\n",
    "    \n",
    "   \n",
    "    #Pre-training\n",
    "    X = np.copy(train_X)\n",
    "\n",
    "    sess = tf.Session()\n",
    "    init = tf.global_variables_initializer()\n",
    "    sess.run(init)\n",
    "    for l, layer in enumerate(layers[:-1]):\n",
    "        corruption_level = np.float(0.1)\n",
    "        batch_size = 100\n",
    "        n_batches = X.shape[0] // batch_size\n",
    "        n_epochs = 20\n",
    "\n",
    "        x = tf.placeholder(tf.float32)\n",
    "        noise = tf.placeholder(tf.float32)\n",
    "    \n",
    "        cost, reconst_x = layer.pretrain(x, noise)\n",
    "        params = layer.params\n",
    "        train = sgd(cost, params)\n",
    "        encode = layer.f_prop(x)\n",
    "    \n",
    "        for epoch in range(n_epochs):\n",
    "            X = shuffle(X, random_state=random_state)\n",
    "            err_all = []\n",
    "            for i in range(n_batches):\n",
    "                start = i * batch_size\n",
    "                end = start + batch_size\n",
    "\n",
    "                _noise = rng.binomial(size=X[start:end].shape, n=1, p=1-corruption_level)\n",
    "                _, err = sess.run([train, cost], feed_dict={x: X[start:end], noise: _noise})\n",
    "                err_all.append(err)\n",
    "            #print('Pretraining:: layer: %d, Epoch: %d, Error: %lf' % (l+1, epoch+1, np.mean(err)))\n",
    "        X = sess.run(encode, feed_dict={x: X})\n",
    "    \n",
    "   \n",
    "    def f_props(layers, x):\n",
    "        params = []\n",
    "        for layer in layers:\n",
    "            x = layer.f_prop(x)\n",
    "            params += layer.params\n",
    "        return x, params\n",
    "\n",
    "    y, params = f_props(layers, x)\n",
    "\n",
    "    cost = -tf.reduce_mean(tf.reduce_sum(t*tf.log(tf.clip_by_value(y, 1e-10, 1.0)),axis=1))\n",
    "    updates = sgd(cost, params)\n",
    "\n",
    "    train = tf.group(*updates)\n",
    "    \n",
    "    valid = tf.argmax(y, 1)\n",
    "    \n",
    "    start_time=time.time()\n",
    "    \n",
    "   \n",
    "    \n",
    "    #batch learning\n",
    "    \n",
    "    n_epochs = 200\n",
    "    batch_size = 100\n",
    "    n_batches = train_X.shape[0] // batch_size\n",
    "\n",
    "    cost_plt =[]\n",
    "    for epoch in range(n_epochs):\n",
    "        train_X, train_y = shuffle(train_X, train_y, random_state=random_state)\n",
    "        cost_arry = []\n",
    "        for i in range(n_batches):\n",
    "            start = i * batch_size\n",
    "            end = start + batch_size\n",
    "            _cost, _ = sess.run([cost,train], feed_dict={x: train_X[start:end], t: train_y[start:end]})\n",
    "            cost_arry.append(_cost)\n",
    "        cost_plt.append(np.sum(cost_arry))\n",
    "        tttttt = time.time()-start_time\n",
    "        #print (\"epoch\",epoch,\"time\",tttttt,\"cost\",cost_plt[len(cost_plt)-1])\n",
    "\n",
    "        pred_y = sess.run(valid, feed_dict={x: test_X})\n",
    "    #plt.plot(cost_plt)\n",
    "        \n",
    "    # Step6. 予測\n",
    "    #pred_y = np.argmax(sess.run(y, feed_dict={x: test_X}),1)\n",
    "\n",
    "    #sess.close()\n",
    "    \n",
    "    \n",
    "    \n",
    "    return pred_y"
   ]
  },
  {
   "cell_type": "markdown",
   "metadata": {},
   "source": [
    "- 以下のvalidate_homework関数を用いてエラーが起きないか動作確認をして下さい。\n",
    "- 提出に際して、以下のscore_homework関数で60分で実行が終わることを確認して下さい。\n",
    "- 評価は以下のscore_homework関数で行われますが、random_stateの値は変更されます。"
   ]
  },
  {
   "cell_type": "markdown",
   "metadata": {},
   "source": [
    "# Checker Cell (for student)"
   ]
  },
  {
   "cell_type": "code",
   "execution_count": 27,
   "metadata": {},
   "outputs": [
    {
     "ename": "AttributeError",
     "evalue": "app",
     "output_type": "error",
     "traceback": [
      "\u001b[1;31m---------------------------------------------------------------------------\u001b[0m",
      "\u001b[1;31mAttributeError\u001b[0m                            Traceback (most recent call last)",
      "\u001b[1;32m<ipython-input-27-794fce5bd545>\u001b[0m in \u001b[0;36m<module>\u001b[1;34m()\u001b[0m\n\u001b[0;32m      8\u001b[0m \u001b[1;33m\u001b[0m\u001b[0m\n\u001b[0;32m      9\u001b[0m del [\n\u001b[1;32m---> 10\u001b[1;33m         \u001b[0mtf\u001b[0m\u001b[1;33m.\u001b[0m\u001b[0mapp\u001b[0m\u001b[1;33m,\u001b[0m\u001b[1;33m\u001b[0m\u001b[0m\n\u001b[0m\u001b[0;32m     11\u001b[0m         \u001b[0mtf\u001b[0m\u001b[1;33m.\u001b[0m\u001b[0mcompat\u001b[0m\u001b[1;33m,\u001b[0m\u001b[1;33m\u001b[0m\u001b[0m\n\u001b[0;32m     12\u001b[0m         \u001b[0mtf\u001b[0m\u001b[1;33m.\u001b[0m\u001b[0mcontrib\u001b[0m\u001b[1;33m,\u001b[0m\u001b[1;33m\u001b[0m\u001b[0m\n",
      "\u001b[1;31mAttributeError\u001b[0m: app"
     ]
    }
   ],
   "source": [
    "from sklearn.utils import shuffle\n",
    "from sklearn.metrics import f1_score\n",
    "from sklearn.model_selection import train_test_split\n",
    "from tensorflow.examples.tutorials.mnist import input_data\n",
    "\n",
    "import numpy as np\n",
    "import tensorflow as tf\n",
    "\n",
    "del [\n",
    "        tf.app,\n",
    "        tf.compat,\n",
    "        tf.contrib,\n",
    "        tf.errors,\n",
    "        tf.gfile,\n",
    "        tf.graph_util,\n",
    "        tf.image,\n",
    "        tf.layers,\n",
    "        tf.logging,\n",
    "        tf.losses,\n",
    "        tf.metrics,\n",
    "        tf.python_io,\n",
    "        tf.resource_loader,\n",
    "        tf.saved_model,\n",
    "        tf.sdca,\n",
    "        tf.sets,\n",
    "        tf.summary,\n",
    "        tf.sysconfig,\n",
    "        tf.test,\n",
    "        tf.train\n",
    "    ]\n",
    "\n",
    "def load_mnist():\n",
    "    mnist = input_data.read_data_sets('MNIST_data/', one_hot=True)\n",
    "    mnist_X = np.r_[mnist.train.images, mnist.test.images]\n",
    "    mnist_y = np.r_[mnist.train.labels, mnist.test.labels]\n",
    "    return train_test_split(mnist_X, mnist_y, test_size=0.2, random_state=42)\n",
    "\n",
    "def validate_homework():\n",
    "    train_X, test_X, train_y, test_y = load_mnist()\n",
    "\n",
    "    # validate for small dataset\n",
    "    train_X_mini = train_X[:1000]\n",
    "    train_y_mini = train_y[:1000]\n",
    "    test_X_mini = test_X[:100]\n",
    "    test_y_mini = test_y[:100]\n",
    "    \n",
    "    pred_y = homework(train_X_mini, train_y_mini, test_X_mini)\n",
    "    print(f1_score(np.argmax(test_y_mini, 1), pred_y, average='macro'))\n",
    "\n",
    "def score_homework():\n",
    "    train_X, test_X, train_y, test_y = load_mnist()\n",
    "    print(\"score_homework\")\n",
    "    print(\"train_X\",train_X.shape,\"train_y\",train_y.shape)\n",
    "    pred_y = homework(train_X, train_y, test_X)\n",
    "    print(f1_score(np.argmax(test_y, 1), pred_y, average='macro'))"
   ]
  },
  {
   "cell_type": "code",
   "execution_count": null,
   "metadata": {},
   "outputs": [],
   "source": [
    "#validate_homework()\n",
    "#score_homework()"
   ]
  },
  {
   "cell_type": "code",
   "execution_count": 28,
   "metadata": {},
   "outputs": [
    {
     "name": "stdout",
     "output_type": "stream",
     "text": [
      "Extracting MNIST_data/train-images-idx3-ubyte.gz\n",
      "Extracting MNIST_data/train-labels-idx1-ubyte.gz\n",
      "Extracting MNIST_data/t10k-images-idx3-ubyte.gz\n",
      "Extracting MNIST_data/t10k-labels-idx1-ubyte.gz\n",
      "score_homework\n",
      "train_X (52000, 784) train_y (52000, 10)\n",
      "0.981413817861\n"
     ]
    }
   ],
   "source": [
    "score_homework()"
   ]
  },
  {
   "cell_type": "code",
   "execution_count": null,
   "metadata": {
    "collapsed": true
   },
   "outputs": [],
   "source": []
  }
 ],
 "metadata": {
  "kernelspec": {
   "display_name": "Python 3",
   "language": "python",
   "name": "python3"
  },
  "language_info": {
   "codemirror_mode": {
    "name": "ipython",
    "version": 3
   },
   "file_extension": ".py",
   "mimetype": "text/x-python",
   "name": "python",
   "nbconvert_exporter": "python",
   "pygments_lexer": "ipython3",
   "version": "3.5.3"
  }
 },
 "nbformat": 4,
 "nbformat_minor": 1
}
