{
 "cells": [
  {
   "cell_type": "markdown",
   "metadata": {},
   "source": [
    "# 第4回講義 宿題"
   ]
  },
  {
   "cell_type": "markdown",
   "metadata": {
    "collapsed": true
   },
   "source": [
    "## 課題. MNISTデータセットを多層パーセプトロン(MLP)で学習せよ"
   ]
  },
  {
   "cell_type": "markdown",
   "metadata": {},
   "source": [
    "### 注意\n",
    "- homework関数を完成させて提出してください\n",
    "    - 訓練データはtrain_X, train_y, テストデータはtest_Xで与えられます\n",
    "    - train_Xとtrain_yをtrain_X, train_yとvalid_X, valid_yに分けるなどしてモデルを学習させてください\n",
    "    - test_Xに対して予想ラベルpred_yを作り, homework関数の戻り値としてください\\\n",
    "- pred_yのtest_yに対する精度(F値)で評価します\n",
    "- 全体の実行時間がiLect上で60分を超えないようにしてください\n",
    "- homework関数の外には何も書かないでください (必要なものは全てhomework関数に入れてください)\n",
    "- 解答提出時には Answer Cell の内容のみを提出してください"
   ]
  },
  {
   "cell_type": "markdown",
   "metadata": {},
   "source": [
    "- MLPの実装にTensorflowなどのライブラリを使わないでください"
   ]
  },
  {
   "cell_type": "markdown",
   "metadata": {},
   "source": [
    "### ヒント\n",
    "- 出力yはone-of-k表現\n",
    "- 最終層の活性化関数はソフトマックス関数, 誤差関数は多クラス交差エントロピー\n",
    "- 最終層のデルタは教科書参照"
   ]
  },
  {
   "cell_type": "markdown",
   "metadata": {},
   "source": [
    "次のセルのhomework関数を完成させて提出してください"
   ]
  },
  {
   "cell_type": "markdown",
   "metadata": {},
   "source": [
    "# Answer Cell"
   ]
  },
  {
   "cell_type": "code",
   "execution_count": 7,
   "metadata": {
    "collapsed": true,
    "deletable": false,
    "ilect": {
     "is_homework": true
    }
   },
   "outputs": [],
   "source": [
    "def homework(train_X, train_y, test_X):\n",
    "    \n",
    "    import numpy as np\n",
    "    import matplotlib.pyplot as plt\n",
    "    %matplotlib inline\n",
    "\n",
    "    def sigmoid(x):\n",
    "        return 1 / (1 + np.exp(-x))\n",
    "\n",
    "\n",
    "    def deriv_sigmoid(x):\n",
    "        return sigmoid(x)*(1-sigmoid(x))\n",
    "\n",
    "    def softmax(x):\n",
    "        exp_x = np.exp(x)\n",
    "        return exp_x / np.sum(exp_x, axis=1, keepdims=True)\n",
    "\n",
    "\n",
    "    def deriv_softmax(x):\n",
    "        return softmax(x)*(1-softmax(x))\n",
    "\n",
    "    def test(W1, b1, W2, b2,W3,b3,x):\n",
    "\n",
    "        # Forward Propagation Layer1\n",
    "        u1 = np.matmul(x, W1) + b1\n",
    "        z1 = sigmoid(u1)\n",
    "\n",
    "        # Forward Propagation Layer2\n",
    "        u2 = np.matmul(z1, W2) + b2\n",
    "        z2 = sigmoid(u2)\n",
    "\n",
    "        u3 = np.matmul(z2,W3) + b3\n",
    "        z3 = softmax(u3)\n",
    "        y =[]\n",
    "        for one in z3:\n",
    "            y.append(np.argmax(one))\n",
    "        return y\n",
    "\n",
    "    # Layer1 weights\n",
    "    W1 = np.random.uniform(low=-0.08, high=0.08, size=(784, 100)).astype('float32')\n",
    "    b1 = np.zeros(100).astype('float32')\n",
    "\n",
    "    # Layer2 weights\n",
    "    W2 = np.random.uniform(low=-0.08, high=0.08, size=(100, 50)).astype('float32')\n",
    "    b2 = np.zeros(50).astype('float32')\n",
    "\n",
    "    # Layer3 weights\n",
    "    W3 = np.random.uniform(low=-0.08, high=0.08, size=(50, 10)).astype('float32')\n",
    "    b3 = np.zeros(10).astype('float32')\n",
    "\n",
    "    def train(W1, b1, W2, b2,W3,b3,x, t, eps=0.1):\n",
    "        #global W1, b1, W2, b2,W3,b3  # to access variables that defined outside of this function.\n",
    "\n",
    "        y_tmp = np.zeros(10).reshape(1, 10)\n",
    "        y_tmp[0,t] = 1.0\n",
    "        train_y=y_tmp\n",
    "        # Forward Propagation Layer1\n",
    "        u1 = np.matmul(x, W1) + b1\n",
    "        z1 = sigmoid(u1)\n",
    "\n",
    "        # Forward Propagation Layer2\n",
    "        u2 = np.matmul(z1, W2) + b2\n",
    "        z2 = sigmoid(u2)\n",
    "\n",
    "        u3 = np.matmul(z2,W3) + b3\n",
    "        z3 = softmax(u3)\n",
    "\n",
    "        # Back Propagation (Cost Function: Negative Loglikelihood)\n",
    "        y = z3\n",
    "        #cost = np.sum(-t * np.log(y[0,t]) - (1 - t) * np.log(1 - y[0,t]))\n",
    "        cost = -np.log(y[0,t])\n",
    "\n",
    "        delta_3 = (y-train_y)\n",
    "        delta_2 = deriv_sigmoid(u2) * np.matmul(delta_3, W3.T)  # Layer2 delta\n",
    "        delta_1 = deriv_sigmoid(u1) * np.matmul(delta_2, W2.T)  # Layer1 delta\n",
    "\n",
    "        # Update Parameters Layer1\n",
    "        dW1 = np.matmul(x.T, delta_1)\n",
    "        db1 = np.matmul(np.ones(len(x)), delta_1)\n",
    "        W1 = W1 - eps * dW1\n",
    "        b1 = b1 - eps * db1\n",
    "        #W1 -= eps * dW1\n",
    "        #b1 -= eps * db1\n",
    "\n",
    "        # Update Parameters Layer2\n",
    "        dW2 = np.matmul(z1.T, delta_2)\n",
    "        db2 = np.matmul(np.ones(len(z1)), delta_2)\n",
    "        W2 = W2 - eps * dW2\n",
    "        b2 = b2 - eps * db2\n",
    "        #W2 -= eps * dW2\n",
    "        #b2 -= eps * db2\n",
    "\n",
    "        # Update Parameters Layer3\n",
    "        dW3 = np.matmul(z2.T, delta_3)\n",
    "        db3 = np.matmul(np.ones(len(z2)), delta_3)\n",
    "        W3 = W3 - eps * dW3\n",
    "        b3 = b3 - eps * db3\n",
    "        #W3 -= eps * dW3\n",
    "        #b3 -= eps * db3\n",
    "\n",
    "        return W1, b1, W2, b2,W3,b3,cost\n",
    "\n",
    "\n",
    "    \n",
    "    import time\n",
    "    start=time.time()\n",
    "    cost_plt =[]\n",
    "    for epoch in range(30):\n",
    "    # Online Learning\n",
    "        cost_arry = []\n",
    "        for x, y in zip(train_X, train_y):\n",
    "            x = x.reshape(1,len(x))\n",
    "            W1, b1, W2, b2,W3,b3,cost = train(W1, b1, W2, b2,W3,b3,x, y)\n",
    "            cost_arry.append(cost)\n",
    "            \n",
    "        cost_plt.append(np.sum(cost_arry))\n",
    "        tttttt = time.time() - start\n",
    "        print (\"epoch\",epoch,\"time\",tttttt,\"cost\",cost_plt[len(cost_plt)-1])\n",
    "    plt.plot(cost_plt)\n",
    "    pred_y = test(W1, b1, W2, b2,W3,b3,test_X)\n",
    "    return pred_y"
   ]
  },
  {
   "cell_type": "markdown",
   "metadata": {},
   "source": [
    "- 以下のvalidate_homework関数を用いてエラーが起きないか動作確認をして下さい。\n",
    "- 提出に際して、score_homework関数で60分で実行が終わることを確認して下さい。\n",
    "- 評価は以下のscore_homework関数で行われますが、random_stateの値は変更されます。"
   ]
  },
  {
   "cell_type": "markdown",
   "metadata": {},
   "source": [
    "# Checker Cell (for student)"
   ]
  },
  {
   "cell_type": "code",
   "execution_count": 8,
   "metadata": {
    "collapsed": true,
    "deletable": false,
    "ilect": {
     "course_id": 4,
     "course_rank": 4,
     "is_evaluation": true
    }
   },
   "outputs": [],
   "source": [
    "from sklearn.utils import shuffle\n",
    "from sklearn.metrics import f1_score\n",
    "from sklearn.datasets import fetch_mldata\n",
    "from sklearn.model_selection import train_test_split\n",
    "\n",
    "import numpy as np\n",
    "\n",
    "def load_mnist():\n",
    "    mnist = fetch_mldata('MNIST original')\n",
    "    mnist_X, mnist_y = shuffle(mnist.data.astype('float32'),\n",
    "                               mnist.target.astype('int32'), random_state=42)\n",
    "\n",
    "    mnist_X = mnist_X / 255.0\n",
    "\n",
    "    return train_test_split(mnist_X, mnist_y,\n",
    "                test_size=0.2,\n",
    "                random_state=42)\n",
    "\n",
    "def validate_homework():\n",
    "    train_X, test_X, train_y, test_y = load_mnist()\n",
    "\n",
    "    # validate for small dataset\n",
    "    train_X_mini = train_X[:100]\n",
    "    train_y_mini = train_y[:100]\n",
    "    test_X_mini = test_X[:100]\n",
    "    test_y_mini = test_y[:100]\n",
    "\n",
    "    pred_y = homework(train_X_mini, train_y_mini, test_X_mini)\n",
    "    print(f1_score(test_y_mini, pred_y, average='macro'))\n",
    "\n",
    "def score_homework():\n",
    "    train_X, test_X, train_y, test_y = load_mnist()\n",
    "    pred_y = homework(train_X, train_y, test_X)\n",
    "    print(f1_score(test_y, pred_y, average='macro'))"
   ]
  },
  {
   "cell_type": "code",
   "execution_count": 9,
   "metadata": {},
   "outputs": [
    {
     "name": "stdout",
     "output_type": "stream",
     "text": [
      "epoch 0 time 0.03727245330810547 cost 1013.90465982\n",
      "epoch 1 time 0.053232431411743164 cost 984.5424719\n",
      "epoch 2 time 0.10013127326965332 cost 969.674228746\n",
      "epoch 3 time 0.11575818061828613 cost 963.502217344\n",
      "epoch 4 time 0.1535186767578125 cost 960.637905147\n",
      "epoch 5 time 0.18477582931518555 cost 959.388465987\n",
      "epoch 6 time 0.21602749824523926 cost 959.495991045\n",
      "epoch 7 time 0.23817777633666992 cost 959.127046525\n",
      "epoch 8 time 0.28661155700683594 cost 950.273388584\n",
      "epoch 9 time 0.30568718910217285 cost 934.764640555\n",
      "epoch 10 time 0.3384573459625244 cost 921.66277102\n",
      "epoch 11 time 0.36971187591552734 cost 911.103962137\n",
      "epoch 12 time 0.3853490352630615 cost 900.171784197\n",
      "epoch 13 time 0.41660213470458984 cost 886.223229095\n",
      "epoch 14 time 0.4387509822845459 cost 866.318676982\n",
      "epoch 15 time 0.4851548671722412 cost 834.803597262\n",
      "epoch 16 time 0.5062317848205566 cost 780.779613607\n",
      "epoch 17 time 0.5389940738677979 cost 700.578786526\n",
      "epoch 18 time 0.5546224117279053 cost 611.435494536\n",
      "epoch 19 time 0.5858747959136963 cost 531.744103661\n",
      "epoch 20 time 0.6171305179595947 cost 464.470772279\n",
      "epoch 21 time 0.6549074649810791 cost 405.277438065\n",
      "epoch 22 time 0.6705355644226074 cost 348.359189557\n",
      "epoch 23 time 0.7226765155792236 cost 287.750498034\n",
      "epoch 24 time 0.7403926849365234 cost 218.14478908\n",
      "epoch 25 time 0.781318187713623 cost 136.692588332\n",
      "epoch 26 time 0.8071131706237793 cost 47.008508849\n",
      "epoch 27 time 0.8227412700653076 cost -43.560201441\n",
      "epoch 28 time 0.8550024032592773 cost -129.167465989\n",
      "epoch 29 time 0.8862571716308594 cost -207.825514327\n",
      "0.597943904289\n"
     ]
    },
    {
     "data": {
      "image/png": "[encoded data removed]",
      "text/plain": [
       "<matplotlib.figure.Figure at 0x1ffe2002198>"
      ]
     },
     "metadata": {},
     "output_type": "display_data"
    }
   ],
   "source": [
    "validate_homework()\n",
    "# score_homework()"
   ]
  },
  {
   "cell_type": "code",
   "execution_count": 10,
   "metadata": {},
   "outputs": [
    {
     "name": "stdout",
     "output_type": "stream",
     "text": [
      "epoch 0 time 22.92143964767456 cost -505969.633256\n",
      "epoch 1 time 45.310046911239624 cost -919177.476114\n",
      "epoch 2 time 67.82321000099182 cost -1092145.2078\n",
      "epoch 3 time 91.28193044662476 cost -1214675.65096\n",
      "epoch 4 time 113.94001293182373 cost -1301586.37051\n",
      "epoch 5 time 138.5729627609253 cost -1397203.70521\n",
      "epoch 6 time 155.31579732894897 cost -1479169.09969\n",
      "epoch 7 time 174.44799280166626 cost -1564625.90761\n",
      "epoch 8 time 193.72227907180786 cost -1586381.61161\n",
      "epoch 9 time 212.7437300682068 cost -1640825.26968\n",
      "epoch 10 time 231.6416153907776 cost -1673584.52204\n",
      "epoch 11 time 250.5393991470337 cost -1783391.28504\n",
      "epoch 12 time 269.52527689933777 cost -1847203.24267\n",
      "epoch 13 time 288.97904562950134 cost -1884956.20361\n",
      "epoch 14 time 308.7818112373352 cost -1939952.46939\n",
      "epoch 15 time 328.74332547187805 cost -1998391.24322\n",
      "epoch 16 time 348.55844283103943 cost -2006978.73028\n",
      "epoch 17 time 368.2886233329773 cost -2049279.69225\n",
      "epoch 18 time 388.06792306900024 cost -2010810.46484\n",
      "epoch 19 time 408.272399187088 cost -2029198.64797\n",
      "epoch 20 time 428.2597482204437 cost -2111247.85969\n",
      "epoch 21 time 448.22571086883545 cost -2183519.56437\n",
      "epoch 22 time 468.08489751815796 cost -2191513.11753\n",
      "epoch 23 time 487.82662892341614 cost -2150563.16553\n",
      "epoch 24 time 507.74475359916687 cost -2153476.34478\n",
      "epoch 25 time 527.7226650714874 cost -2234857.91519\n",
      "epoch 26 time 547.6652898788452 cost -2286920.64279\n",
      "epoch 27 time 567.2372217178345 cost -2340912.75127\n",
      "epoch 28 time 586.8505885601044 cost -2337936.20683\n",
      "epoch 29 time 606.4441864490509 cost -2305507.90365\n",
      "0.972595142397\n"
     ]
    },
    {
     "data": {
      "image/png": "[encoded data removed]",
      "text/plain": [
       "<matplotlib.figure.Figure at 0x1ffe2096780>"
      ]
     },
     "metadata": {},
     "output_type": "display_data"
    }
   ],
   "source": [
    "score_homework()"
   ]
  },
  {
   "cell_type": "code",
   "execution_count": null,
   "metadata": {
    "collapsed": true
   },
   "outputs": [],
   "source": []
  }
 ],
 "metadata": {
  "anaconda-cloud": {},
  "kernelspec": {
   "display_name": "Python 3",
   "language": "python",
   "name": "python3"
  },
  "language_info": {
   "codemirror_mode": {
    "name": "ipython",
    "version": 3
   },
   "file_extension": ".py",
   "mimetype": "text/x-python",
   "name": "python",
   "nbconvert_exporter": "python",
   "pygments_lexer": "ipython3",
   "version": "3.5.3"
  }
 },
 "nbformat": 4,
 "nbformat_minor": 1
}
